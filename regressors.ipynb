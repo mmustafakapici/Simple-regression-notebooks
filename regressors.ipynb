{
 "cells": [
  {
   "cell_type": "code",
   "execution_count": 1,
   "metadata": {},
   "outputs": [
    {
     "name": "stdout",
     "output_type": "stream",
     "text": [
      "['PLSRegression', 'RandomForestRegressor', 'ExtraTreesRegressor', 'BaggingRegressor', 'GradientBoostingRegressor', 'AdaBoostRegressor', 'VotingRegressor', 'StackingRegressor', 'HistGradientBoostingRegressor', 'GaussianProcessRegressor', 'IsotonicRegression', 'ARDRegression', 'HuberRegressor', 'LinearRegression', 'LogisticRegression', 'LogisticRegressionCV', 'PassiveAggressiveRegressor', 'QuantileRegressor', 'SGDRegressor', 'TheilSenRegressor', 'RANSACRegressor', 'PoissonRegressor', 'GammaRegressor', 'TweedieRegressor', 'MultiOutputRegressor', 'RegressorChain', 'KNeighborsRegressor', 'RadiusNeighborsRegressor', 'MLPRegressor', 'DecisionTreeRegressor', 'ExtraTreeRegressor', 'TransformedTargetRegressor', <class 'sklearn.svm._classes.SVR'>]\n"
     ]
    }
   ],
   "source": [
    "from importlib import import_module\n",
    "import sklearn\n",
    "\n",
    "def all_regressors():\n",
    "    regressors=[]\n",
    "    for module in sklearn.__all__:\n",
    "        try:\n",
    "            regressors.extend([cls for cls in import_module(f'sklearn.{module}').__all__ if 'Regress' in cls ])\n",
    "        except:\n",
    "            pass\n",
    "    regressors.append(sklearn.svm.SVR)\n",
    "    return regressors\n",
    "print(all_regressors())"
   ]
  },
  {
   "cell_type": "code",
   "execution_count": 2,
   "metadata": {},
   "outputs": [],
   "source": [
    "#export all_regressors to txt\n",
    "with open('all_regressors.txt', 'w') as f:\n",
    "    for regressor in all_regressors():\n",
    "        f.write(f'{regressor}\\n')\n",
    "        "
   ]
  },
  {
   "cell_type": "code",
   "execution_count": null,
   "metadata": {},
   "outputs": [],
   "source": []
  }
 ],
 "metadata": {
  "kernelspec": {
   "display_name": "Python 3.9.12 ('base')",
   "language": "python",
   "name": "python3"
  },
  "language_info": {
   "codemirror_mode": {
    "name": "ipython",
    "version": 3
   },
   "file_extension": ".py",
   "mimetype": "text/x-python",
   "name": "python",
   "nbconvert_exporter": "python",
   "pygments_lexer": "ipython3",
   "version": "3.9.12"
  },
  "orig_nbformat": 4,
  "vscode": {
   "interpreter": {
    "hash": "02c57933b27e302d6d688f00bd73806e412822148989e15439b05335636b8c5c"
   }
  }
 },
 "nbformat": 4,
 "nbformat_minor": 2
}
